{
 "cells": [
  {
   "cell_type": "code",
   "execution_count": 9,
   "metadata": {},
   "outputs": [],
   "source": [
    "import numpy as np"
   ]
  },
  {
   "cell_type": "code",
   "execution_count": 10,
   "metadata": {},
   "outputs": [
    {
     "name": "stdout",
     "output_type": "stream",
     "text": [
      "[[0.66666667 1.        ]\n",
      " [0.33333333 0.55555556]\n",
      " [1.         0.66666667]]\n",
      "[[0.92]\n",
      " [0.86]\n",
      " [0.89]]\n"
     ]
    }
   ],
   "source": [
    "# X = (hours sleeping, hours studying)\n",
    "# Y = test score of the student\n",
    "X = np.array(([2,9], [1,5], [3,6]), dtype=float)\n",
    "Y = np.array(([92], [86], [89]), dtype=float)\n",
    "\n",
    "# Scale Unit\n",
    "X = X/np.amax(X, axis=0) # meximum of X array\n",
    "Y = Y/100 #meximum test score is 100\n",
    "\n",
    "print(X)\n",
    "print(Y)"
   ]
  },
  {
   "cell_type": "code",
   "execution_count": 20,
   "metadata": {},
   "outputs": [
    {
     "name": "stdout",
     "output_type": "stream",
     "text": [
      "Predicted Output (Without BackPropogation): [[0.4820657  0.72158417]\n",
      " [0.47858374 0.7001934 ]\n",
      " [0.52320621 0.78176931]]\n",
      "\n",
      "\n",
      "Loss: 0.09140389434641742\n",
      "Loss: 0.0002370285595304157\n",
      "Loss: 0.00022746205754610116\n",
      "Loss: 0.00021912862655144687\n",
      "Loss: 0.0002117053854770601\n",
      "Loss: 0.00020506124076684392\n",
      "Loss: 0.00019908710737929263\n",
      "Loss: 0.00019369175552144352\n",
      "Loss: 0.00018879852727798584\n",
      "Loss: 0.00018434271915379402\n",
      "\n",
      "\n",
      "Input: [[0.66666667 1.        ]\n",
      " [0.33333333 0.55555556]\n",
      " [1.         0.66666667]]\n",
      "Actual Output: [[0.92]\n",
      " [0.86]\n",
      " [0.89]]\n",
      "Loss: 0.0001802694837315311\n",
      "\n",
      "\n",
      "Predicted Output (Without BackPropogation): [[0.90385085 0.90036331]\n",
      " [0.86801943 0.86441425]\n",
      " [0.89727505 0.90727713]]\n"
     ]
    }
   ],
   "source": [
    "class NeuralNetwork(object):\n",
    "    \n",
    "    def __init__(self): # constructor\n",
    "        #perameters\n",
    "        self.inputSize = 2\n",
    "        self.outputSize = 2\n",
    "        self.hiddenSize = 3\n",
    "        \n",
    "        #weights\n",
    "        self.W1 = np.random.randn(self.inputSize, self.hiddenSize) # (3x2) weight matrix from input to hidden layer\n",
    "        self.W2 = np.random.randn(self.hiddenSize, self.outputSize) # (3x1) weight matrix from hidden to output layer\n",
    "        \n",
    "    def feedForward(self, X): # Deep Neural Network Function\n",
    "        #forward propogation through the network\n",
    "        self.z = np.dot(X, self.W1) #dot product of X (input) and first set of weights (3x2)\n",
    "        self.z2 = self.sigmoid(self.z) #activation function\n",
    "        self.z3 = np.dot(self.z2, self.W2) #dot product of hidden layer (z2) and second set of weights (3x1)\n",
    "        output = self.sigmoid(self.z3)\n",
    "        return output\n",
    "    \n",
    "    def sigmoid(self, s, deriv=False): # Sigmoid Function\n",
    "        if (deriv == True):\n",
    "            return s * (1 - s)\n",
    "        return 1/(1 + np.exp(-s))\n",
    "    \n",
    "    def backward(self, X, Y, output): # BackPropogation\n",
    "        #backward propogate through the network\n",
    "        self.output_error = Y - output # error in output\n",
    "        self.output_delta = self.output_error * self.sigmoid(output, deriv=True) # Delta Relu\n",
    "        #The delta rule is derived by attempting to minimize the error in the output of the neural network through gradient descent.\n",
    "        \n",
    "        self.z2_error = self.output_delta.dot(self.W2.T) #z2 error: how much our hidden layer weights contribute to output error\n",
    "        self.z2_delta = self.z2_error * self.sigmoid(self.z2, deriv=True) #applying derivative of sigmoid to z2 error\n",
    "        \n",
    "        self.W1 += X.T.dot(self.z2_delta) # adjusting first set (input -> hidden) weights\n",
    "        self.W2 += self.z2.T.dot(self.output_delta) # adjusting second set (hidden -> output) weights\n",
    "        \n",
    "    def train(self, X, Y):\n",
    "        output = self.feedForward(X)\n",
    "        self.backward(X, Y, output)\n",
    "        \n",
    "NN = NeuralNetwork()\n",
    "\n",
    "print(\"Predicted Output (Without BackPropogation): \" + str(NN.feedForward(X)))\n",
    "print(\"\\n\")\n",
    "for i in range(1000): #trains the NN 1000 times\n",
    "    if (i % 100 == 0):\n",
    "        print(\"Loss: \" + str(np.mean(np.square(Y - NN.feedForward(X)))))\n",
    "    NN.train(X, Y)\n",
    "print(\"\\n\")        \n",
    "print(\"Input: \" + str(X))\n",
    "print(\"Actual Output: \" + str(Y))\n",
    "print(\"Loss: \" + str(np.mean(np.square(Y - NN.feedForward(X)))))\n",
    "print(\"\\n\")\n",
    "print(\"Predicted Output (Without BackPropogation): \" + str(NN.feedForward(X)))"
   ]
  },
  {
   "cell_type": "code",
   "execution_count": null,
   "metadata": {},
   "outputs": [],
   "source": []
  },
  {
   "cell_type": "code",
   "execution_count": null,
   "metadata": {},
   "outputs": [],
   "source": []
  }
 ],
 "metadata": {
  "kernelspec": {
   "display_name": "Python 3",
   "language": "python",
   "name": "python3"
  },
  "language_info": {
   "codemirror_mode": {
    "name": "ipython",
    "version": 3
   },
   "file_extension": ".py",
   "mimetype": "text/x-python",
   "name": "python",
   "nbconvert_exporter": "python",
   "pygments_lexer": "ipython3",
   "version": "3.8.1"
  }
 },
 "nbformat": 4,
 "nbformat_minor": 4
}
