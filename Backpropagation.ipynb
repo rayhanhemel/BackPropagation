{
 "cells": [
  {
   "cell_type": "code",
   "execution_count": 9,
   "metadata": {},
   "outputs": [],
   "source": [
    "import numpy as np"
   ]
  },
  {
   "cell_type": "code",
   "execution_count": 10,
   "metadata": {},
   "outputs": [
    {
     "name": "stdout",
     "output_type": "stream",
     "text": [
      "[[0.66666667 1.        ]\n",
      " [0.33333333 0.55555556]\n",
      " [1.         0.66666667]]\n",
      "[[0.92]\n",
      " [0.86]\n",
      " [0.89]]\n"
     ]
    }
   ],
   "source": [
    "# X = (hours sleeping, hours studying)\n",
    "# Y = test score of the student\n",
    "X = np.array(([2,9], [1,5], [3,6]), dtype=float)\n",
    "Y = np.array(([92], [86], [89]), dtype=float)\n",
    "\n",
    "# Scale Unit\n",
    "X = X/np.amax(X, axis=0) # meximum of X array\n",
    "Y = Y/100 #meximum test score is 100\n",
    "\n",
    "print(X)\n",
    "print(Y)"
   ]
  },
  {
   "cell_type": "code",
   "execution_count": 21,
   "metadata": {},
   "outputs": [
    {
     "name": "stdout",
     "output_type": "stream",
     "text": [
      "Predicted Output (Without BackPropogation): [[0.14380491 0.72545787]\n",
      " [0.1675195  0.67685967]\n",
      " [0.1289362  0.78006089]]\n",
      "\n",
      "\n",
      "Loss: 0.2907833003855875\n",
      "Loss: 0.00042402442682031954\n",
      "Loss: 0.00039916975209707055\n",
      "Loss: 0.00037830741780561105\n",
      "Loss: 0.0003593237340818367\n",
      "Loss: 0.0003420029713645841\n",
      "Loss: 0.00032615751183096876\n",
      "Loss: 0.000311623177382337\n",
      "Loss: 0.00029825620495685097\n",
      "Loss: 0.00028593058265405813\n",
      "\n",
      "\n",
      "Input: [[0.66666667 1.        ]\n",
      " [0.33333333 0.55555556]\n",
      " [1.         0.66666667]]\n",
      "Actual Output: [[0.92]\n",
      " [0.86]\n",
      " [0.89]]\n",
      "Loss: 0.00027453571954591874\n",
      "\n",
      "\n",
      "Predicted Output (With BackPropogation): [[0.89753151 0.90271108]\n",
      " [0.87240308 0.85684601]\n",
      " [0.8995401  0.91426266]]\n"
     ]
    }
   ],
   "source": [
    "class NeuralNetwork(object):\n",
    "    \n",
    "    def __init__(self): # constructor\n",
    "        #perameters\n",
    "        self.inputSize = 2\n",
    "        self.outputSize = 2\n",
    "        self.hiddenSize = 3\n",
    "        \n",
    "        #weights\n",
    "        self.W1 = np.random.randn(self.inputSize, self.hiddenSize) # (3x2) weight matrix from input to hidden layer\n",
    "        self.W2 = np.random.randn(self.hiddenSize, self.outputSize) # (3x1) weight matrix from hidden to output layer\n",
    "        \n",
    "    def feedForward(self, X): # Deep Neural Network Function\n",
    "        #forward propogation through the network\n",
    "        self.z = np.dot(X, self.W1) #dot product of X (input) and first set of weights (3x2)\n",
    "        self.z2 = self.sigmoid(self.z) #activation function\n",
    "        self.z3 = np.dot(self.z2, self.W2) #dot product of hidden layer (z2) and second set of weights (3x1)\n",
    "        output = self.sigmoid(self.z3)\n",
    "        return output\n",
    "    \n",
    "    def sigmoid(self, s, deriv=False): # Sigmoid Function\n",
    "        if (deriv == True):\n",
    "            return s * (1 - s)\n",
    "        return 1/(1 + np.exp(-s))\n",
    "    \n",
    "    def backward(self, X, Y, output): # BackPropogation\n",
    "        #backward propogate through the network\n",
    "        self.output_error = Y - output # error in output\n",
    "        self.output_delta = self.output_error * self.sigmoid(output, deriv=True) # Delta Relu\n",
    "        #The delta rule is derived by attempting to minimize the error in the output of the neural network through gradient descent.\n",
    "        \n",
    "        self.z2_error = self.output_delta.dot(self.W2.T) #z2 error: how much our hidden layer weights contribute to output error\n",
    "        self.z2_delta = self.z2_error * self.sigmoid(self.z2, deriv=True) #applying derivative of sigmoid to z2 error\n",
    "        \n",
    "        self.W1 += X.T.dot(self.z2_delta) # adjusting first set (input -> hidden) weights\n",
    "        self.W2 += self.z2.T.dot(self.output_delta) # adjusting second set (hidden -> output) weights\n",
    "        \n",
    "    def train(self, X, Y):\n",
    "        output = self.feedForward(X)\n",
    "        self.backward(X, Y, output)\n",
    "        \n",
    "NN = NeuralNetwork()\n",
    "\n",
    "print(\"Predicted Output (Without BackPropogation): \" + str(NN.feedForward(X)))\n",
    "print(\"\\n\")\n",
    "\n",
    "for i in range(1000): #trains the NN 1000 times\n",
    "    if (i % 100 == 0):\n",
    "        print(\"Loss: \" + str(np.mean(np.square(Y - NN.feedForward(X)))))\n",
    "    NN.train(X, Y)\n",
    "print(\"\\n\")\n",
    "\n",
    "print(\"Input: \" + str(X))\n",
    "print(\"Actual Output: \" + str(Y))\n",
    "print(\"Loss: \" + str(np.mean(np.square(Y - NN.feedForward(X)))))\n",
    "print(\"\\n\")\n",
    "\n",
    "print(\"Predicted Output (With BackPropogation): \" + str(NN.feedForward(X)))"
   ]
  },
  {
   "cell_type": "code",
   "execution_count": null,
   "metadata": {},
   "outputs": [],
   "source": []
  },
  {
   "cell_type": "code",
   "execution_count": null,
   "metadata": {},
   "outputs": [],
   "source": []
  }
 ],
 "metadata": {
  "kernelspec": {
   "display_name": "Python 3",
   "language": "python",
   "name": "python3"
  },
  "language_info": {
   "codemirror_mode": {
    "name": "ipython",
    "version": 3
   },
   "file_extension": ".py",
   "mimetype": "text/x-python",
   "name": "python",
   "nbconvert_exporter": "python",
   "pygments_lexer": "ipython3",
   "version": "3.8.1"
  }
 },
 "nbformat": 4,
 "nbformat_minor": 4
}
